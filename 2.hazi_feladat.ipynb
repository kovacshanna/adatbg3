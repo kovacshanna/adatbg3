{
    "metadata": {
        "kernelspec": {
            "name": "SQL",
            "display_name": "SQL",
            "language": "sql"
        },
        "language_info": {
            "name": "sql",
            "version": ""
        }
    },
    "nbformat_minor": 2,
    "nbformat": 4,
    "cells": [
        {
            "cell_type": "markdown",
            "source": [
                "Tábla létrehozása maszkolással"
            ],
            "metadata": {
                "azdata_cell_guid": "9a18bd97-c138-44c7-a3da-0d64fb97c0c4"
            },
            "attachments": {}
        },
        {
            "cell_type": "code",
            "source": [
                "CREATE TABLE Maszkolt(\r\n",
                "\tLOGIN nvarchar(225) MASKED WITH (Function = 'partial(1, \"XXX\", 1)' NOT NULL,\r\n",
                "\tEMAIL nvarchar(255) MASKED WITH (Function = 'email()') NOT NULL,\r\n",
                "\tNEV nvarchar(255) NOT NULL,\r\n",
                "\tSZULEV int MASKED WITH (FUNCTION = 'random(1,100)') NULL,\r\n",
                "\tNEM nvarchar(1) NULL,\r\n",
                "\tCIM nvarchar(255) NULL,\r\n",
                "Primary KEY (LOGIN)"
            ],
            "metadata": {
                "azdata_cell_guid": "bd099f8c-b771-4cfe-9130-0b129366d49d",
                "language": "sql"
            },
            "outputs": [],
            "execution_count": null
        },
        {
            "cell_type": "markdown",
            "source": [
                "Feltöltés"
            ],
            "metadata": {
                "azdata_cell_guid": "56f78779-75b7-443e-b1dc-50e33ccaa1eb"
            },
            "attachments": {}
        },
        {
            "cell_type": "code",
            "source": [
                "INSERT INTO Maszkolt (LOGIN, EMAIl, NEV, SZULEV, NEM, CIM)\r\n",
                "SELECT LOGIN, EMAIL, NEV, SZULEV, NEM, CIM FROM Ugyfel;"
            ],
            "metadata": {
                "azdata_cell_guid": "00a6a9ce-3d84-477a-af89-a0ebfd97c363",
                "language": "sql"
            },
            "outputs": [],
            "execution_count": null
        },
        {
            "cell_type": "markdown",
            "source": [
                "Ús felhasználó hozzáadása"
            ],
            "metadata": {
                "azdata_cell_guid": "bee9a3f9-6ada-432a-b441-7bfd55f53fd2"
            },
            "attachments": {}
        },
        {
            "cell_type": "code",
            "source": [
                "CREATE USER MaskUser Without LOGIN;\r\n",
                "GRANT SELECT ON Maszkolt TO MaskUser;"
            ],
            "metadata": {
                "azdata_cell_guid": "25b0a420-69b0-4192-80b0-811ac57a9b6c",
                "language": "sql",
                "tags": []
            },
            "outputs": [],
            "execution_count": null
        },
        {
            "cell_type": "markdown",
            "source": [
                "Maszkolt felhasználó"
            ],
            "metadata": {
                "azdata_cell_guid": "f6f747e7-f80b-4715-84d5-ad5ae5153ffd"
            },
            "attachments": {}
        },
        {
            "cell_type": "code",
            "source": [
                "EXECUTE AS USER = 'MaskUser';\r\n",
                "SELECT * FROM Maszkolt;\r\n",
                "REVERT;"
            ],
            "metadata": {
                "azdata_cell_guid": "3b57cae0-9cd7-4120-96e6-8e60bac0645f",
                "language": "sql"
            },
            "outputs": [],
            "execution_count": null
        }
    ]
}
