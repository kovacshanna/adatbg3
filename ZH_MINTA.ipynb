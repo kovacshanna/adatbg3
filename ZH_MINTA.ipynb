{
    "metadata": {
        "kernelspec": {
            "name": "SQL",
            "display_name": "SQL",
            "language": "sql"
        },
        "language_info": {
            "name": "sql",
            "version": ""
        }
    },
    "nbformat_minor": 2,
    "nbformat": 4,
    "cells": [
        {
            "cell_type": "code",
            "source": [
                "SELECT *,\r\n",
                "        DATEDIFF(YEAR, SZUL_DAT, GETDATE())  AS 'Vendég életkora',\r\n",
                "        AVG(DATEDIFF(YEAR, SZUL_DAT, GETDATE()))\r\n",
                "                                        OVER(ORDER BY SZUL_DAT\r\n",
                "                                        ROWS BETWEEN 2 PRECEDING AND 2 FOLLOWING)\r\n",
                "FROM Vendeg"
            ],
            "metadata": {
                "azdata_cell_guid": "2fab2af6-65a7-4ee8-84a0-7d921ac5d173",
                "language": "sql"
            },
            "outputs": [],
            "execution_count": null
        },
        {
            "cell_type": "code",
            "source": [
                "SELECT v.USERNEV,\r\n",
                "        v.NEV\r\n",
                "FROM Vendeg v JOIN Foglalas f ON v.USERNEV=f.UGYFEL_FK\r\n",
                "WHERE NOT EXISTS\r\n",
                "(\r\n",
                "    SELECT *\r\n",
                "    FROM Foglalas f2\r\n",
                "    WHERE f.UGYFEL_FK = f2.UGYFEL_FK\r\n",
                "    AND \r\n",
                "        f2.FELNOTT_SZAM + f2.GYERMEK_SZAM <> 2\r\n",
                ")"
            ],
            "metadata": {
                "azdata_cell_guid": "b82b5c52-ef06-46e8-af70-4b000451a0c6",
                "language": "sql",
                "tags": []
            },
            "outputs": [
                {
                    "output_type": "display_data",
                    "data": {
                        "text/html": "(21 rows affected)"
                    },
                    "metadata": {}
                },
                {
                    "output_type": "display_data",
                    "data": {
                        "text/html": "Total execution time: 00:00:00.019"
                    },
                    "metadata": {}
                },
                {
                    "output_type": "execute_result",
                    "metadata": {},
                    "execution_count": 7,
                    "data": {
                        "application/vnd.dataresource+json": {
                            "schema": {
                                "fields": [
                                    {
                                        "name": "USERNEV"
                                    },
                                    {
                                        "name": "NEV"
                                    }
                                ]
                            },
                            "data": [
                                {
                                    "USERNEV": "andras4",
                                    "NEV": "Back András"
                                },
                                {
                                    "USERNEV": "andras4",
                                    "NEV": "Back András"
                                },
                                {
                                    "USERNEV": "andras4",
                                    "NEV": "Back András"
                                },
                                {
                                    "USERNEV": "ANDRASN",
                                    "NEV": "Nagy András"
                                },
                                {
                                    "USERNEV": "balu",
                                    "NEV": "Endresz Bálint"
                                },
                                {
                                    "USERNEV": "balu",
                                    "NEV": "Endresz Bálint"
                                },
                                {
                                    "USERNEV": "ESZTERE",
                                    "NEV": "Érsek Eszter"
                                },
                                {
                                    "USERNEV": "ESZTERE",
                                    "NEV": "Érsek Eszter"
                                },
                                {
                                    "USERNEV": "ESZTERE",
                                    "NEV": "Érsek Eszter"
                                },
                                {
                                    "USERNEV": "ESZTERE",
                                    "NEV": "Érsek Eszter"
                                },
                                {
                                    "USERNEV": "jozsef",
                                    "NEV": "Gergely József"
                                },
                                {
                                    "USERNEV": "jozsef",
                                    "NEV": "Gergely József"
                                },
                                {
                                    "USERNEV": "jozsef",
                                    "NEV": "Gergely József"
                                },
                                {
                                    "USERNEV": "kristof4",
                                    "NEV": "Poprádi Kristóf"
                                },
                                {
                                    "USERNEV": "kristof4",
                                    "NEV": "Poprádi Kristóf"
                                },
                                {
                                    "USERNEV": "MIKLOSB",
                                    "NEV": "Balla Miklós"
                                },
                                {
                                    "USERNEV": "MIKLOSB",
                                    "NEV": "Balla Miklós"
                                },
                                {
                                    "USERNEV": "MIKLOSB",
                                    "NEV": "Balla Miklós"
                                },
                                {
                                    "USERNEV": "szabolcs",
                                    "NEV": "Bodor Szabolcs"
                                },
                                {
                                    "USERNEV": "tibor2",
                                    "NEV": "Dániel Tibor"
                                },
                                {
                                    "USERNEV": "timea",
                                    "NEV": "Papós Tímea"
                                }
                            ]
                        },
                        "text/html": [
                            "<table>",
                            "<tr><th>USERNEV</th><th>NEV</th></tr>",
                            "<tr><td>andras4</td><td>Back András</td></tr>",
                            "<tr><td>andras4</td><td>Back András</td></tr>",
                            "<tr><td>andras4</td><td>Back András</td></tr>",
                            "<tr><td>ANDRASN</td><td>Nagy András</td></tr>",
                            "<tr><td>balu</td><td>Endresz Bálint</td></tr>",
                            "<tr><td>balu</td><td>Endresz Bálint</td></tr>",
                            "<tr><td>ESZTERE</td><td>Érsek Eszter</td></tr>",
                            "<tr><td>ESZTERE</td><td>Érsek Eszter</td></tr>",
                            "<tr><td>ESZTERE</td><td>Érsek Eszter</td></tr>",
                            "<tr><td>ESZTERE</td><td>Érsek Eszter</td></tr>",
                            "<tr><td>jozsef</td><td>Gergely József</td></tr>",
                            "<tr><td>jozsef</td><td>Gergely József</td></tr>",
                            "<tr><td>jozsef</td><td>Gergely József</td></tr>",
                            "<tr><td>kristof4</td><td>Poprádi Kristóf</td></tr>",
                            "<tr><td>kristof4</td><td>Poprádi Kristóf</td></tr>",
                            "<tr><td>MIKLOSB</td><td>Balla Miklós</td></tr>",
                            "<tr><td>MIKLOSB</td><td>Balla Miklós</td></tr>",
                            "<tr><td>MIKLOSB</td><td>Balla Miklós</td></tr>",
                            "<tr><td>szabolcs</td><td>Bodor Szabolcs</td></tr>",
                            "<tr><td>tibor2</td><td>Dániel Tibor</td></tr>",
                            "<tr><td>timea</td><td>Papós Tímea</td></tr>",
                            "</table>"
                        ]
                    }
                }
            ],
            "execution_count": 7
        }
    ]
}