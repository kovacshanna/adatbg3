{
    "metadata": {
        "kernelspec": {
            "name": "SQL",
            "display_name": "SQL",
            "language": "sql"
        },
        "language_info": {
            "name": "sql",
            "version": ""
        }
    },
    "nbformat_minor": 2,
    "nbformat": 4,
    "cells": [
        {
            "cell_type": "code",
            "source": [
                "---FELADAT 1\r\n",
                "SELECT szh.SZALLAS_ID AS 'Szálláshely azonosítója', \r\n",
                "        szh.SZALLAS_NEV AS 'Szálláshely neve',\r\n",
                "        COUNT(sz.SZOBA_ID) AS 'Klímás szobák száma'\r\n",
                "FROM Szallashely szh JOIN Szoba sz ON szh.SZALLAS_ID=sz.SZALLAS_FK\r\n",
                "WHERE sz.KLIMAS='i'\r\n",
                "GROUP BY szh.SZALLAS_ID,szh.SZALLAS_NEV\r\n",
                "\r\n",
                ""
            ],
            "metadata": {
                "azdata_cell_guid": "306d8e23-8fbd-4d6d-b579-73364d74b0fb",
                "language": "sql",
                "tags": []
            },
            "outputs": [
                {
                    "output_type": "display_data",
                    "data": {
                        "text/html": "(20 rows affected)"
                    },
                    "metadata": {}
                },
                {
                    "output_type": "display_data",
                    "data": {
                        "text/html": "Total execution time: 00:00:00.016"
                    },
                    "metadata": {}
                },
                {
                    "output_type": "execute_result",
                    "metadata": {},
                    "execution_count": 27,
                    "data": {
                        "application/vnd.dataresource+json": {
                            "schema": {
                                "fields": [
                                    {
                                        "name": "Szálláshely azonosítója"
                                    },
                                    {
                                        "name": "Szálláshely neve"
                                    },
                                    {
                                        "name": "Klímás szobák száma"
                                    }
                                ]
                            },
                            "data": [
                                {
                                    "Szálláshely azonosítója": "1",
                                    "Szálláshely neve": "Sába-Ház",
                                    "Klímás szobák száma": "10"
                                },
                                {
                                    "Szálláshely azonosítója": "2",
                                    "Szálláshely neve": "Családi Ház",
                                    "Klímás szobák száma": "4"
                                },
                                {
                                    "Szálláshely azonosítója": "3",
                                    "Szálláshely neve": "Fortuna Apartman",
                                    "Klímás szobák száma": "5"
                                },
                                {
                                    "Szálláshely azonosítója": "4",
                                    "Szálláshely neve": "Fortuna panzió",
                                    "Klímás szobák száma": "12"
                                },
                                {
                                    "Szálláshely azonosítója": "5",
                                    "Szálláshely neve": "Fortuna Panzió",
                                    "Klímás szobák száma": "8"
                                },
                                {
                                    "Szálláshely azonosítója": "6",
                                    "Szálláshely neve": "Kentaur Hotel",
                                    "Klímás szobák száma": "22"
                                },
                                {
                                    "Szálláshely azonosítója": "7",
                                    "Szálláshely neve": "Szieszta Apartmanház",
                                    "Klímás szobák száma": "4"
                                },
                                {
                                    "Szálláshely azonosítója": "8",
                                    "Szálláshely neve": "Hotel Három Hattyú",
                                    "Klímás szobák száma": "28"
                                },
                                {
                                    "Szálláshely azonosítója": "9",
                                    "Szálláshely neve": "Jáde panzió",
                                    "Klímás szobák száma": "2"
                                },
                                {
                                    "Szálláshely azonosítója": "10",
                                    "Szálláshely neve": "Lagúna Hotel",
                                    "Klímás szobák száma": "15"
                                },
                                {
                                    "Szálláshely azonosítója": "11",
                                    "Szálláshely neve": "Partiszél Vendégház",
                                    "Klímás szobák száma": "4"
                                },
                                {
                                    "Szálláshely azonosítója": "12",
                                    "Szálláshely neve": "Gold Hotel",
                                    "Klímás szobák száma": "42"
                                },
                                {
                                    "Szálláshely azonosítója": "13",
                                    "Szálláshely neve": "Riviéra Panzió",
                                    "Klímás szobák száma": "8"
                                },
                                {
                                    "Szálláshely azonosítója": "14",
                                    "Szálláshely neve": "Nyárfás Vendégház",
                                    "Klímás szobák száma": "4"
                                },
                                {
                                    "Szálláshely azonosítója": "15",
                                    "Szálláshely neve": "Tímárház Panzió",
                                    "Klímás szobák száma": "9"
                                },
                                {
                                    "Szálláshely azonosítója": "16",
                                    "Szálláshely neve": "Bagoly Hotel",
                                    "Klímás szobák száma": "14"
                                },
                                {
                                    "Szálláshely azonosítója": "17",
                                    "Szálláshely neve": "Szarvas Hotel",
                                    "Klímás szobák száma": "11"
                                },
                                {
                                    "Szálláshely azonosítója": "18",
                                    "Szálláshely neve": "Fortuna Apartman",
                                    "Klímás szobák száma": "2"
                                },
                                {
                                    "Szálláshely azonosítója": "19",
                                    "Szálláshely neve": "Nyárfás Vendégház",
                                    "Klímás szobák száma": "2"
                                },
                                {
                                    "Szálláshely azonosítója": "20",
                                    "Szálláshely neve": "Kollégium",
                                    "Klímás szobák száma": "9"
                                }
                            ]
                        },
                        "text/html": [
                            "<table>",
                            "<tr><th>Szálláshely azonosítója</th><th>Szálláshely neve</th><th>Klímás szobák száma</th></tr>",
                            "<tr><td>1</td><td>Sába-Ház</td><td>10</td></tr>",
                            "<tr><td>2</td><td>Családi Ház</td><td>4</td></tr>",
                            "<tr><td>3</td><td>Fortuna Apartman</td><td>5</td></tr>",
                            "<tr><td>4</td><td>Fortuna panzió</td><td>12</td></tr>",
                            "<tr><td>5</td><td>Fortuna Panzió</td><td>8</td></tr>",
                            "<tr><td>6</td><td>Kentaur Hotel</td><td>22</td></tr>",
                            "<tr><td>7</td><td>Szieszta Apartmanház</td><td>4</td></tr>",
                            "<tr><td>8</td><td>Hotel Három Hattyú</td><td>28</td></tr>",
                            "<tr><td>9</td><td>Jáde panzió</td><td>2</td></tr>",
                            "<tr><td>10</td><td>Lagúna Hotel</td><td>15</td></tr>",
                            "<tr><td>11</td><td>Partiszél Vendégház</td><td>4</td></tr>",
                            "<tr><td>12</td><td>Gold Hotel</td><td>42</td></tr>",
                            "<tr><td>13</td><td>Riviéra Panzió</td><td>8</td></tr>",
                            "<tr><td>14</td><td>Nyárfás Vendégház</td><td>4</td></tr>",
                            "<tr><td>15</td><td>Tímárház Panzió</td><td>9</td></tr>",
                            "<tr><td>16</td><td>Bagoly Hotel</td><td>14</td></tr>",
                            "<tr><td>17</td><td>Szarvas Hotel</td><td>11</td></tr>",
                            "<tr><td>18</td><td>Fortuna Apartman</td><td>2</td></tr>",
                            "<tr><td>19</td><td>Nyárfás Vendégház</td><td>2</td></tr>",
                            "<tr><td>20</td><td>Kollégium</td><td>9</td></tr>",
                            "</table>"
                        ]
                    }
                }
            ],
            "execution_count": 27
        },
        {
            "cell_type": "code",
            "source": [
                "---FELADAT 2\r\n",
                "SELECT sz.SZOBA_ID AS 'Szoba azonosítója', \r\n",
                "        YEAR(f.METTOL) AS 'Évszám',\r\n",
                "        COUNT(f.FOGLALAS_PK) AS 'Foglalások száma'\r\n",
                "FROM Szoba sz JOIN Foglalas f ON SZOBA_ID=SZOBA_FK\r\n",
                "WHERE sz.SZOBA_SZAMA%2=1\r\n",
                "GROUP BY sz.SZOBA_ID,YEAR(f.METTOL)\r\n",
                "HAVING COUNT(f.FOGLALAS_PK)>10\r\n",
                "\r\n",
                ""
            ],
            "metadata": {
                "azdata_cell_guid": "79e8321c-c3a6-4273-8b24-e1412979a216",
                "language": "sql",
                "tags": []
            },
            "outputs": [
                {
                    "output_type": "display_data",
                    "data": {
                        "text/html": "(1 row affected)"
                    },
                    "metadata": {}
                },
                {
                    "output_type": "display_data",
                    "data": {
                        "text/html": "Total execution time: 00:00:00.004"
                    },
                    "metadata": {}
                },
                {
                    "output_type": "execute_result",
                    "metadata": {},
                    "execution_count": 20,
                    "data": {
                        "application/vnd.dataresource+json": {
                            "schema": {
                                "fields": [
                                    {
                                        "name": "Szoba azonosítója"
                                    },
                                    {
                                        "name": "Évszám"
                                    },
                                    {
                                        "name": "Foglalások száma"
                                    }
                                ]
                            },
                            "data": [
                                {
                                    "Szoba azonosítója": "58",
                                    "Évszám": "2016",
                                    "Foglalások száma": "12"
                                }
                            ]
                        },
                        "text/html": [
                            "<table>",
                            "<tr><th>Szoba azonosítója</th><th>Évszám</th><th>Foglalások száma</th></tr>",
                            "<tr><td>58</td><td>2016</td><td>12</td></tr>",
                            "</table>"
                        ]
                    }
                }
            ],
            "execution_count": 20
        }
    ]
}