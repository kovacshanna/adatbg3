{
    "metadata": {
        "kernelspec": {
            "name": "SQL",
            "display_name": "SQL",
            "language": "sql"
        },
        "language_info": {
            "name": "sql",
            "version": ""
        }
    },
    "nbformat_minor": 2,
    "nbformat": 4,
    "cells": [
        {
            "cell_type": "code",
            "source": [
                "SELECT sz.SZOBA_ID AS 'Szoba azonosító',\r\n",
                "        f.FOGLALAS_PK AS 'Foglalás azonosítója',\r\n",
                "        DATEDIFF(day,f.METTOL, f.MEDDIG) AS 'Foglalás időtartama (napokban)',\r\n",
                "        LAG(DATEDIFF(day,f.METTOL, f.MEDDIG),1,0) OVER (PARTITION BY sz.SZOBA_ID \r\n",
                "                                            ORDER BY DATEDIFF(day,f.METTOL, f.MEDDIG) ) \r\n",
                "                                            AS 'A szoba előző foglalás időtartama (napokban)'\r\n",
                "FROM SZOBA sz \r\n",
                "JOIN FOGLALAS f ON f.SZOBA_FK=sz.SZOBA_ID\r\n",
                ""
            ],
            "metadata": {
                "azdata_cell_guid": "26a4f2f9-2da4-40de-845b-2bb3233d81e0",
                "language": "sql",
                "tags": []
            },
            "outputs": [],
            "execution_count": null
        },
        {
            "cell_type": "code",
            "source": [
                "SELECT IIF(GROUPING_ID(SZOBA_FK)=1, 'Összesen',CAST(SZOBA_FK AS nvarchar(3))) AS 'Szoba azonosító',\r\n",
                "        COUNT(*) AS 'Foglalások száma'\r\n",
                "FROM FOGLALAS \r\n",
                "WHERE GYERMEK_SZAM < FELNOTT_SZAM\r\n",
                "GROUP BY ROLLUP (SZOBA_FK)"
            ],
            "metadata": {
                "azdata_cell_guid": "15038d62-fa2a-4332-9ecc-131e10643502",
                "language": "sql",
                "tags": []
            },
            "outputs": [],
            "execution_count": null
        }
    ]
}